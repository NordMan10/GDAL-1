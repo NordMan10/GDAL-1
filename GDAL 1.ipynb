{
 "cells": [
  {
   "cell_type": "code",
   "execution_count": 1,
   "id": "af26fe51",
   "metadata": {},
   "outputs": [],
   "source": [
    "from osgeo import gdal"
   ]
  },
  {
   "cell_type": "code",
   "execution_count": 108,
   "id": "996a9f4b",
   "metadata": {},
   "outputs": [
    {
     "name": "stdout",
     "output_type": "stream",
     "text": [
      "[array([[-32768, -32768, -32768, ..., -32768, -32768, -32768],\n",
      "       [-32768, -32768, -32768, ..., -32768, -32768, -32768],\n",
      "       [-32768, -32768, -32768, ..., -32768, -32768, -32768],\n",
      "       ...,\n",
      "       [-32768, -32768, -32768, ...,    218,    219,    219],\n",
      "       [-32768, -32768, -32768, ...,    216,    217,    217],\n",
      "       [-32768, -32768, -32768, ...,    212,    213,    213]], dtype=int16), array([[-32768, -32768, -32768, ...,    210,    209,    210],\n",
      "       [-32768, -32768, -32768, ...,    204,    205,    208],\n",
      "       [-32768, -32768, -32768, ...,    202,    205,    208],\n",
      "       ...,\n",
      "       [-32768, -32768, -32768, ..., -32768, -32768, -32768],\n",
      "       [-32768, -32768, -32768, ..., -32768, -32768, -32768],\n",
      "       [-32768, -32768, -32768, ..., -32768, -32768, -32768]], dtype=int16), array([[-32768, -32768, -32768, ..., -32768, -32768, -32768],\n",
      "       [-32768, -32768, -32768, ..., -32768, -32768, -32768],\n",
      "       [-32768, -32768, -32768, ..., -32768, -32768, -32768],\n",
      "       ...,\n",
      "       [   218,    220,    223, ..., -32768, -32768, -32768],\n",
      "       [   216,    217,    219, ..., -32768, -32768, -32768],\n",
      "       [   214,    214,    215, ..., -32768, -32768, -32768]], dtype=int16), array([[   211,    211,    212, ..., -32768, -32768, -32768],\n",
      "       [   211,    211,    211, ..., -32768, -32768, -32768],\n",
      "       [   211,    212,    213, ..., -32768, -32768, -32768],\n",
      "       ...,\n",
      "       [-32768, -32768, -32768, ..., -32768, -32768, -32768],\n",
      "       [-32768, -32768, -32768, ..., -32768, -32768, -32768],\n",
      "       [-32768, -32768, -32768, ..., -32768, -32768, -32768]], dtype=int16)]\n",
      "(4, 6000, 6000)\n"
     ]
    }
   ],
   "source": [
    "gdal.UseExceptions()\n",
    "\n",
    "ds1 = gdal.Open('./35_01/srtm_35_01.tif')\n",
    "ds2 = gdal.Open('./35_02/srtm_35_02.tif')\n",
    "ds3 = gdal.Open('./36_01/srtm_36_01.tif')\n",
    "ds4 = gdal.Open('./36_02/srtm_36_02.tif')\n",
    "\n",
    "gdal_ds = [ds1, ds2, ds3, ds4]\n",
    "elevations_list = []\n",
    "\n",
    "# band = ds.GetRasterBand(1)\n",
    "# elevations_list += [band.ReadAsArray()]\n",
    "\n",
    "for ds in gdal_ds:\n",
    "    band = ds.GetRasterBand(1)\n",
    "    elevations_list += [band.ReadAsArray()]\n",
    "\n",
    "print(elevations_list)\n",
    "print(np.shape(elevations_list))"
   ]
  },
  {
   "cell_type": "code",
   "execution_count": 58,
   "id": "6406300d",
   "metadata": {},
   "outputs": [
    {
     "data": {
      "text/plain": [
       "array([1, 2])"
      ]
     },
     "execution_count": 58,
     "metadata": {},
     "output_type": "execute_result"
    }
   ],
   "source": [
    "test = np.array([1, 2])\n",
    "test"
   ]
  },
  {
   "cell_type": "code",
   "execution_count": 3,
   "id": "8e1805e9",
   "metadata": {},
   "outputs": [],
   "source": [
    "import numpy as np"
   ]
  },
  {
   "cell_type": "code",
   "execution_count": 4,
   "id": "659365ab",
   "metadata": {},
   "outputs": [
    {
     "data": {
      "text/plain": [
       "numpy.ndarray"
      ]
     },
     "execution_count": 4,
     "metadata": {},
     "output_type": "execute_result"
    }
   ],
   "source": [
    "type(elevation[0])"
   ]
  },
  {
   "cell_type": "code",
   "execution_count": 5,
   "id": "c2a06f50",
   "metadata": {},
   "outputs": [
    {
     "name": "stdout",
     "output_type": "stream",
     "text": [
      "[45 45 45 46 46 45 43 45 44 42]\n",
      "[46 45 44 45 46 45 45 44 44 42]\n",
      "[45 43 44 44 45 44 44 43 43 43]\n",
      "[45 44 44 44 43 44 44 44 42 41]\n",
      "[47 46 45 45 44 44 44 43 43 42]\n",
      "[47 46 45 44 44 44 44 43 46 44]\n",
      "[45 45 44 43 43 43 44 44 44 43]\n",
      "[43 44 43 43 43 44 43 43 44 44]\n",
      "[43 43 42 42 42 43 43 44 44 44]\n",
      "[45 45 44 42 43 43 43 44 44 42]\n"
     ]
    },
    {
     "data": {
      "text/plain": [
       "array([[45., 45., 45., 46., 46., 45., 43., 45., 44., 42.],\n",
       "       [46., 45., 44., 45., 46., 45., 45., 44., 44., 42.],\n",
       "       [45., 43., 44., 44., 45., 44., 44., 43., 43., 43.],\n",
       "       [45., 44., 44., 44., 43., 44., 44., 44., 42., 41.],\n",
       "       [47., 46., 45., 45., 44., 44., 44., 43., 43., 42.],\n",
       "       [47., 46., 45., 44., 44., 44., 44., 43., 46., 44.],\n",
       "       [45., 45., 44., 43., 43., 43., 44., 44., 44., 43.],\n",
       "       [43., 44., 43., 43., 43., 44., 43., 43., 44., 44.],\n",
       "       [43., 43., 42., 42., 42., 43., 43., 44., 44., 44.],\n",
       "       [45., 45., 44., 42., 43., 43., 43., 44., 44., 42.]])"
      ]
     },
     "execution_count": 5,
     "metadata": {},
     "output_type": "execute_result"
    }
   ],
   "source": [
    "cnt = 0\n",
    "arr = np.empty([10, 10])\n",
    "\n",
    "for i in range(10):\n",
    "    print(elevation[i, :10])\n",
    "    arr[i] = elevation[i, :10]\n",
    "    \n",
    "arr\n",
    "    "
   ]
  },
  {
   "cell_type": "code",
   "execution_count": null,
   "id": "4d125724",
   "metadata": {},
   "outputs": [],
   "source": []
  },
  {
   "cell_type": "markdown",
   "id": "bff7fb64",
   "metadata": {},
   "source": [
    "### Get rectangle side length function"
   ]
  },
  {
   "cell_type": "code",
   "execution_count": 72,
   "id": "75ef3e1d",
   "metadata": {},
   "outputs": [],
   "source": [
    "def get_pixel_count_to_rounding_and_rect_side(scale):\n",
    "    # constants\n",
    "    min_scale = 3\n",
    "    default_pixel_num = 1200\n",
    "    overlap_pixel_num = 1\n",
    "    \n",
    "    pixel_num_to_rounding = scale / min_scale\n",
    "    rect_side = default_pixel_num * pixel_num_to_rounding + overlap_pixel_num\n",
    "    \n",
    "    return (pixel_num_to_rounding, rect_side)"
   ]
  },
  {
   "cell_type": "code",
   "execution_count": 73,
   "id": "440fdad6",
   "metadata": {},
   "outputs": [
    {
     "data": {
      "text/plain": [
       "(3.0, 3601.0)"
      ]
     },
     "execution_count": 73,
     "metadata": {},
     "output_type": "execute_result"
    }
   ],
   "source": [
    "get_pixel_count_to_rounding_and_rect_side(9)"
   ]
  },
  {
   "cell_type": "markdown",
   "id": "953b9b6a",
   "metadata": {},
   "source": [
    "### Function takes big 2D array and returns smaller 2D array in according to passed sizes"
   ]
  },
  {
   "cell_type": "code",
   "execution_count": 74,
   "id": "e82e2b37",
   "metadata": {},
   "outputs": [],
   "source": [
    "# The function takes big 2D array and returns smaller 2D array in according to passed sizes\n",
    "# If the function can't satisfy passed sizes of array, it returns array with less sizes\n",
    "def get_2D_array_from_bigger_2D_array(init_arr, left_border, \n",
    "                                        top_border,\n",
    "                                        tile_size, overlap):\n",
    "    \n",
    "    bottom_border = len(init_arr)\n",
    "    if(bottom_border - top_border > tile_size + overlap):\n",
    "        bottom_border =  top_border + tile_size + overlap\n",
    "    right_border = len(init_arr)\n",
    "    if(right_border - left_border > tile_size + overlap):\n",
    "        right_border = left_border + tile_size + overlap\n",
    "        \n",
    "    res_arr = np.empty([bottom_border - top_border, right_border - left_border])\n",
    "    \n",
    "    for i in range(bottom_border - top_border):\n",
    "        res_arr[i] = init_arr[i, left_border : right_border]\n",
    "            \n",
    "    return res_arr\n",
    "        "
   ]
  },
  {
   "cell_type": "code",
   "execution_count": 75,
   "id": "28f83408",
   "metadata": {},
   "outputs": [
    {
     "data": {
      "text/plain": [
       "array([[ -7.,  -6.,  -3., ..., -29., -29., -29.],\n",
       "       [ -4.,  -4.,  -3., ..., -29., -29., -29.],\n",
       "       [ -3.,  -4.,  -5., ..., -29., -29., -29.],\n",
       "       ...,\n",
       "       [561., 569., 592., ..., -29., -29., -29.],\n",
       "       [562., 568., 592., ..., -29., -29., -29.],\n",
       "       [571., 581., 590., ..., -29., -29., -29.]])"
      ]
     },
     "execution_count": 75,
     "metadata": {},
     "output_type": "execute_result"
    }
   ],
   "source": [
    "temp = get_2D_array_from_bigger_2D_array(elevation, 1200, 2400, 2400, 1)\n",
    "temp\n"
   ]
  },
  {
   "cell_type": "code",
   "execution_count": 76,
   "id": "8c61e425",
   "metadata": {},
   "outputs": [
    {
     "data": {
      "text/plain": [
       "(2401, 2401)"
      ]
     },
     "execution_count": 76,
     "metadata": {},
     "output_type": "execute_result"
    }
   ],
   "source": [
    "temp.shape"
   ]
  },
  {
   "cell_type": "markdown",
   "id": "80cbd8a2",
   "metadata": {},
   "source": [
    "### Function returns 2D array combined by equal axis from two 2D arrays"
   ]
  },
  {
   "cell_type": "code",
   "execution_count": 77,
   "id": "793c5082",
   "metadata": {},
   "outputs": [],
   "source": [
    "def combine_two_2d_arrays_by_equal_axis(first_arr, second_arr):\n",
    "    if(first_arr.shape[0] == second_arr.shape[0]):\n",
    "        return np.hstack((first_arr, second_arr))\n",
    "    if(first_arr.shape[1] == second_arr.shape[1]):\n",
    "        return np.vstack((first_arr, second_arr))"
   ]
  },
  {
   "cell_type": "code",
   "execution_count": 78,
   "id": "a7063973",
   "metadata": {
    "scrolled": true
   },
   "outputs": [
    {
     "data": {
      "text/plain": [
       "array([[  0,   1,   2,   3,   4,   5,   6,   7,   8,   9],\n",
       "       [ 10,  11,  12,  13,  14,  15,  16,  17,  18,  19],\n",
       "       [ 20,  21,  22,  23,  24,  25,  26,  27,  28,  29],\n",
       "       [ 30,  31,  32,  33,  34,  35,  36,  37,  38,  39],\n",
       "       [ 40,  41,  42,  43,  44,  45,  46,  47,  48,  49],\n",
       "       [ 50,  51,  52,  53,  54,  55,  56,  57,  58,  59],\n",
       "       [ 60,  61,  62,  63,  64,  65,  66,  67,  68,  69],\n",
       "       [ 70,  71,  72,  73,  74,  75,  76,  77,  78,  79],\n",
       "       [ 80,  81,  82,  83,  84,  85,  86,  87,  88,  89],\n",
       "       [ 90,  91,  92,  93,  94,  95,  96,  97,  98,  99],\n",
       "       [100, 101, 102, 103, 104, 105, 106, 107, 108, 109],\n",
       "       [110, 111, 112, 113, 114, 115, 116, 117, 118, 119],\n",
       "       [120, 121, 122, 123, 124, 125, 126, 127, 128, 129],\n",
       "       [130, 131, 132, 133, 134, 135, 136, 137, 138, 139],\n",
       "       [140, 141, 142, 143, 144, 145, 146, 147, 148, 149],\n",
       "       [150, 151, 152, 153, 154, 155, 156, 157, 158, 159],\n",
       "       [160, 161, 162, 163, 164, 165, 166, 167, 168, 169],\n",
       "       [170, 171, 172, 173, 174, 175, 176, 177, 178, 179],\n",
       "       [180, 181, 182, 183, 184, 185, 186, 187, 188, 189],\n",
       "       [190, 191, 192, 193, 194, 195, 196, 197, 198, 199],\n",
       "       [200, 201, 202, 203, 204, 205, 206, 207, 208, 209],\n",
       "       [210, 211, 212, 213, 214, 215, 216, 217, 218, 219],\n",
       "       [220, 221, 222, 223, 224, 225, 226, 227, 228, 229],\n",
       "       [230, 231, 232, 233, 234, 235, 236, 237, 238, 239],\n",
       "       [240, 241, 242, 243, 244, 245, 246, 247, 248, 249],\n",
       "       [250, 251, 252, 253, 254, 255, 256, 257, 258, 259],\n",
       "       [260, 261, 262, 263, 264, 265, 266, 267, 268, 269],\n",
       "       [270, 271, 272, 273, 274, 275, 276, 277, 278, 279],\n",
       "       [280, 281, 282, 283, 284, 285, 286, 287, 288, 289],\n",
       "       [290, 291, 292, 293, 294, 295, 296, 297, 298, 299],\n",
       "       [  0,   1,   2,   3,   4,   5,   6,   7,   8,   9],\n",
       "       [ 10,  11,  12,  13,  14,  15,  16,  17,  18,  19],\n",
       "       [ 20,  21,  22,  23,  24,  25,  26,  27,  28,  29],\n",
       "       [ 30,  31,  32,  33,  34,  35,  36,  37,  38,  39],\n",
       "       [ 40,  41,  42,  43,  44,  45,  46,  47,  48,  49],\n",
       "       [ 50,  51,  52,  53,  54,  55,  56,  57,  58,  59],\n",
       "       [ 60,  61,  62,  63,  64,  65,  66,  67,  68,  69],\n",
       "       [ 70,  71,  72,  73,  74,  75,  76,  77,  78,  79],\n",
       "       [ 80,  81,  82,  83,  84,  85,  86,  87,  88,  89],\n",
       "       [ 90,  91,  92,  93,  94,  95,  96,  97,  98,  99],\n",
       "       [100, 101, 102, 103, 104, 105, 106, 107, 108, 109],\n",
       "       [110, 111, 112, 113, 114, 115, 116, 117, 118, 119],\n",
       "       [120, 121, 122, 123, 124, 125, 126, 127, 128, 129],\n",
       "       [130, 131, 132, 133, 134, 135, 136, 137, 138, 139],\n",
       "       [140, 141, 142, 143, 144, 145, 146, 147, 148, 149],\n",
       "       [150, 151, 152, 153, 154, 155, 156, 157, 158, 159],\n",
       "       [160, 161, 162, 163, 164, 165, 166, 167, 168, 169],\n",
       "       [170, 171, 172, 173, 174, 175, 176, 177, 178, 179],\n",
       "       [180, 181, 182, 183, 184, 185, 186, 187, 188, 189],\n",
       "       [190, 191, 192, 193, 194, 195, 196, 197, 198, 199],\n",
       "       [200, 201, 202, 203, 204, 205, 206, 207, 208, 209],\n",
       "       [210, 211, 212, 213, 214, 215, 216, 217, 218, 219],\n",
       "       [220, 221, 222, 223, 224, 225, 226, 227, 228, 229],\n",
       "       [230, 231, 232, 233, 234, 235, 236, 237, 238, 239],\n",
       "       [240, 241, 242, 243, 244, 245, 246, 247, 248, 249],\n",
       "       [250, 251, 252, 253, 254, 255, 256, 257, 258, 259],\n",
       "       [260, 261, 262, 263, 264, 265, 266, 267, 268, 269],\n",
       "       [270, 271, 272, 273, 274, 275, 276, 277, 278, 279],\n",
       "       [280, 281, 282, 283, 284, 285, 286, 287, 288, 289],\n",
       "       [290, 291, 292, 293, 294, 295, 296, 297, 298, 299],\n",
       "       [300, 301, 302, 303, 304, 305, 306, 307, 308, 309],\n",
       "       [310, 311, 312, 313, 314, 315, 316, 317, 318, 319],\n",
       "       [320, 321, 322, 323, 324, 325, 326, 327, 328, 329],\n",
       "       [330, 331, 332, 333, 334, 335, 336, 337, 338, 339],\n",
       "       [340, 341, 342, 343, 344, 345, 346, 347, 348, 349],\n",
       "       [350, 351, 352, 353, 354, 355, 356, 357, 358, 359],\n",
       "       [360, 361, 362, 363, 364, 365, 366, 367, 368, 369],\n",
       "       [370, 371, 372, 373, 374, 375, 376, 377, 378, 379],\n",
       "       [380, 381, 382, 383, 384, 385, 386, 387, 388, 389],\n",
       "       [390, 391, 392, 393, 394, 395, 396, 397, 398, 399],\n",
       "       [400, 401, 402, 403, 404, 405, 406, 407, 408, 409],\n",
       "       [410, 411, 412, 413, 414, 415, 416, 417, 418, 419],\n",
       "       [420, 421, 422, 423, 424, 425, 426, 427, 428, 429],\n",
       "       [430, 431, 432, 433, 434, 435, 436, 437, 438, 439],\n",
       "       [440, 441, 442, 443, 444, 445, 446, 447, 448, 449],\n",
       "       [450, 451, 452, 453, 454, 455, 456, 457, 458, 459],\n",
       "       [460, 461, 462, 463, 464, 465, 466, 467, 468, 469],\n",
       "       [470, 471, 472, 473, 474, 475, 476, 477, 478, 479],\n",
       "       [480, 481, 482, 483, 484, 485, 486, 487, 488, 489],\n",
       "       [490, 491, 492, 493, 494, 495, 496, 497, 498, 499],\n",
       "       [500, 501, 502, 503, 504, 505, 506, 507, 508, 509],\n",
       "       [510, 511, 512, 513, 514, 515, 516, 517, 518, 519],\n",
       "       [520, 521, 522, 523, 524, 525, 526, 527, 528, 529],\n",
       "       [530, 531, 532, 533, 534, 535, 536, 537, 538, 539],\n",
       "       [540, 541, 542, 543, 544, 545, 546, 547, 548, 549],\n",
       "       [550, 551, 552, 553, 554, 555, 556, 557, 558, 559],\n",
       "       [560, 561, 562, 563, 564, 565, 566, 567, 568, 569],\n",
       "       [570, 571, 572, 573, 574, 575, 576, 577, 578, 579],\n",
       "       [580, 581, 582, 583, 584, 585, 586, 587, 588, 589],\n",
       "       [590, 591, 592, 593, 594, 595, 596, 597, 598, 599]])"
      ]
     },
     "execution_count": 78,
     "metadata": {},
     "output_type": "execute_result"
    }
   ],
   "source": [
    "arr1 = np.arange(300).reshape(30, 10)\n",
    "arr2 = np.arange(600).reshape(60, 10)\n",
    " \n",
    "# Concatenating operation\n",
    "arr = combine_two_2d_arrays_by_equal_axis(arr1, arr2)\n",
    "arr"
   ]
  },
  {
   "cell_type": "markdown",
   "id": "4209c19e",
   "metadata": {},
   "source": [
    "### The function takes four elevation arrays (rectangles) and split top left one in tails with defined size"
   ]
  },
  {
   "cell_type": "code",
   "execution_count": 79,
   "id": "73af0689",
   "metadata": {},
   "outputs": [],
   "source": [
    "import math"
   ]
  },
  {
   "cell_type": "code",
   "execution_count": 84,
   "id": "7cd9a2ad",
   "metadata": {},
   "outputs": [],
   "source": [
    "def split_rect_in_defined_tails(rects, tail_size, left_border, top_border, overlap):\n",
    "    # Combine all rects to one entire rect\n",
    "    two_top_combined_rects = combine_two_2d_arrays_by_equal_axis(rects[0], rects[1])\n",
    "    two_bottom_combined_rects = combine_two_2d_arrays_by_equal_axis(rects[2], rects[3])\n",
    "    entire_combined_rect = combine_two_2d_arrays_by_equal_axis(two_top_combined_rects, two_bottom_combined_rects)\n",
    "    \n",
    "    # Getting size of default rect (6000 px)\n",
    "    rect_side_size = rects[0].shape[0]\n",
    "    \n",
    "    free_h_space = rect_side_size - left_border\n",
    "    free_v_space = rect_side_size - top_border\n",
    "    \n",
    "    \n",
    "    tails_cnt_in_h_axis = math.ceil(free_h_space / tail_size)\n",
    "    \n",
    "    right_shift = tails_cnt_in_h_axis * tail_size - free_h_space\n",
    "    bottom_shift = tails_cnt_in_h_axis * tail_size - free_v_space\n",
    "    \n",
    "    res_tails = []\n",
    "    \n",
    "#     v_pos = top_border\n",
    "#     h_pos = left_border\n",
    "#     while(v_pos + tail_size < rect_side_size):\n",
    "#         while(h_pos + tail_size < rect_side_size):\n",
    "#             res_tails += [get_2D_array_from_bigger_2D_array(rect[0], h_pos, v_pos, tile_size, overlap).tolist()]\n",
    "#             h_pos += tail_size\n",
    "            \n",
    "    for i in range(tails_cnt_in_h_axis):\n",
    "        for j in range(tails_cnt_in_h_axis):\n",
    "            res_tails += [get_2D_array_from_bigger_2D_array(entire_combined_rect, left_border + tail_size * j, \n",
    "                                                             top_border + tail_size * i, tail_size, overlap)]\n",
    "        \n",
    "    return res_tails"
   ]
  },
  {
   "cell_type": "code",
   "execution_count": 110,
   "id": "3e7ca593",
   "metadata": {},
   "outputs": [
    {
     "name": "stdout",
     "output_type": "stream",
     "text": [
      "(9,)\n",
      "(2401, 2401)\n",
      "[[-32768. -32768. -32768. ... -32768. -32768. -32768.]\n",
      " [-32768. -32768. -32768. ... -32768. -32768. -32768.]\n",
      " [-32768. -32768. -32768. ... -32768. -32768. -32768.]\n",
      " ...\n",
      " [-32768. -32768. -32768. ... -32768. -32768. -32768.]\n",
      " [-32768. -32768. -32768. ... -32768. -32768. -32768.]\n",
      " [-32768. -32768. -32768. ... -32768. -32768. -32768.]]\n"
     ]
    }
   ],
   "source": [
    "tails = split_rect_in_defined_tails(elevations_list, 2400, 0, 0, 1)\n",
    "\n",
    "tail_idx = 4\n",
    "print(np.shape(tails))\n",
    "print(np.shape(tails[tail_idx]))\n",
    "print(tails[tail_idx])"
   ]
  },
  {
   "cell_type": "code",
   "execution_count": 52,
   "id": "7427ad6f",
   "metadata": {},
   "outputs": [
    {
     "data": {
      "text/plain": [
       "[[0.0, 0.0, 0.0, 0.0, 0.0, 0.0, 0.0, 0.0, 0.0, 0.0, 0.0, 0.0],\n",
       " [0.0, 0.0, 0.0, 0.0, 0.0, 0.0, 0.0, 0.0, 0.0, 0.0, 0.0, 0.0],\n",
       " [0.0, 0.0, 0.0, 0.0, 0.0, 0.0, 0.0, 0.0, 0.0, 0.0, 0.0, 0.0],\n",
       " [0.0, 0.0, 0.0, 0.0, 0.0, 0.0, 0.0, 0.0, 0.0, 0.0, 0.0, 0.0],\n",
       " [0.0, 0.0, 0.0, 0.0, 0.0, 0.0, 0.0, 0.0, 0.0, 0.0, 0.0, 0.0],\n",
       " [0.0, 0.0, 0.0, 0.0, 0.0, 0.0, 0.0, 0.0, 0.0, 0.0, 0.0, 0.0],\n",
       " [0.0, 0.0, 0.0, 0.0, 0.0, 0.0, 0.0, 0.0, 0.0, 0.0, 0.0, 0.0],\n",
       " [0.0, 0.0, 0.0, 0.0, 0.0, 0.0, 0.0, 0.0, 0.0, 0.0, 0.0, 0.0],\n",
       " [0.0, 0.0, 0.0, 0.0, 0.0, 0.0, 0.0, 0.0, 0.0, 0.0, 0.0, 0.0],\n",
       " [0.0, 0.0, 0.0, 0.0, 0.0, 0.0, 0.0, 0.0, 0.0, 0.0, 0.0, 0.0],\n",
       " [0.0, 0.0, 0.0, 0.0, 0.0, 0.0, 0.0, 0.0, 0.0, 0.0, 0.0, 0.0],\n",
       " [0.0, 0.0, 0.0, 0.0, 0.0, 0.0, 0.0, 0.0, 0.0, 0.0, 0.0, 0.0]]"
      ]
     },
     "execution_count": 52,
     "metadata": {},
     "output_type": "execute_result"
    }
   ],
   "source": [
    "res_tails = []\n",
    "np_arr = np.ones([12, 12])\n",
    "np_arr1 = np.zeros([12, 12])\n",
    "res_tails += [np_arr.tolist()]\n",
    "res_tails += [np_arr1.tolist()]\n",
    "\n",
    "\n",
    "res_tails[1]"
   ]
  },
  {
   "cell_type": "code",
   "execution_count": 38,
   "id": "12ee25ca",
   "metadata": {
    "scrolled": true
   },
   "outputs": [
    {
     "name": "stdout",
     "output_type": "stream",
     "text": [
      "(5, 1200, 6000)\n",
      "[array([[    45,     45,     45, ..., -32768, -32768, -32768],\n",
      "       [    46,     45,     44, ..., -32768, -32768, -32768],\n",
      "       [    45,     43,     44, ..., -32768, -32768, -32768],\n",
      "       ...,\n",
      "       [   113,    113,    113, ..., -32768, -32768, -32768],\n",
      "       [   111,    114,    113, ..., -32768, -32768, -32768],\n",
      "       [   113,    116,    115, ..., -32768, -32768, -32768]], dtype=int16), array([[   112,    113,    113, ..., -32768, -32768, -32768],\n",
      "       [   115,    113,    111, ..., -32768, -32768, -32768],\n",
      "       [   113,    113,    112, ..., -32768, -32768, -32768],\n",
      "       ...,\n",
      "       [   751,    744,    742, ..., -32768, -32768, -32768],\n",
      "       [   759,    750,    744, ..., -32768, -32768, -32768],\n",
      "       [   764,    753,    745, ..., -32768, -32768, -32768]], dtype=int16), array([[   773,    759,    751, ..., -32768, -32768, -32768],\n",
      "       [   787,    767,    758, ..., -32768, -32768, -32768],\n",
      "       [   787,    773,    766, ..., -32768, -32768, -32768],\n",
      "       ...,\n",
      "       [  1041,   1041,   1041, ..., -32768, -32768, -32768],\n",
      "       [  1041,   1041,   1041, ..., -32768, -32768, -32768],\n",
      "       [  1041,   1041,   1041, ...,    -29,    -29,    -29]], dtype=int16), array([[1041, 1041, 1041, ...,  -29,  -29,  -29],\n",
      "       [1041, 1041, 1041, ...,  -29,  -29,  -29],\n",
      "       [1041, 1041, 1041, ...,  -29,  -29,  -29],\n",
      "       ...,\n",
      "       [1348, 1381, 1411, ...,  -29,  -29,  -29],\n",
      "       [1370, 1389, 1416, ...,  -29,  -29,  -29],\n",
      "       [1417, 1424, 1443, ...,  -29,  -29,  -29]], dtype=int16), array([[1452, 1465, 1487, ...,  -29,  -29,  -29],\n",
      "       [1442, 1465, 1483, ...,  -29,  -29,  -29],\n",
      "       [1409, 1433, 1451, ...,  -29,  -29,  -29],\n",
      "       ...,\n",
      "       [1859, 1895, 1931, ...,  -29,  -29,  -29],\n",
      "       [1866, 1904, 1941, ...,  -29,  -29,  -29],\n",
      "       [1886, 1919, 1961, ...,  -29,  -29,  -29]], dtype=int16)]\n"
     ]
    }
   ],
   "source": [
    "elev_5_1 = np.array_split(elevation, 5, axis=0)\n",
    "print(np.shape(elev_5_1))\n",
    "print(elev_5_1)"
   ]
  },
  {
   "cell_type": "code",
   "execution_count": 39,
   "id": "c4a24c13",
   "metadata": {
    "scrolled": true
   },
   "outputs": [
    {
     "name": "stdout",
     "output_type": "stream",
     "text": [
      "(25, 1200, 1200)\n",
      "[array([[ 45,  45,  45, ...,  -4,  -5,  -6],\n",
      "       [ 46,  45,  44, ...,  -4,  -4,  -4],\n",
      "       [ 45,  43,  44, ...,  -4,  -3,  -3],\n",
      "       ...,\n",
      "       [113, 113, 113, ...,  21,  22,  23],\n",
      "       [111, 114, 113, ...,  20,  20,  22],\n",
      "       [113, 116, 115, ...,  22,  20,  20]], dtype=int16), array([[ -7,  -6,  -3, ..., -28, -26, -24],\n",
      "       [ -4,  -4,  -3, ..., -27, -25, -24],\n",
      "       [ -3,  -4,  -5, ..., -27, -26, -25],\n",
      "       ...,\n",
      "       [ 23,  22,  22, ..., -22, -22, -22],\n",
      "       [ 22,  23,  23, ..., -23, -22, -21],\n",
      "       [ 21,  22,  22, ..., -21, -20, -20]], dtype=int16), array([[-28, -27, -25, ..., -29, -29, -29],\n",
      "       [-26, -26, -24, ..., -29, -29, -29],\n",
      "       [-27, -27, -27, ..., -29, -29, -29],\n",
      "       ...,\n",
      "       [-22, -23, -21, ..., -29, -29, -29],\n",
      "       [-20, -20, -20, ..., -29, -29, -29],\n",
      "       [-20, -20, -20, ..., -29, -29, -29]], dtype=int16), array([[   -29, -32768, -32768, ..., -32768, -32768, -32768],\n",
      "       [   -29, -32768, -32768, ..., -32768, -32768, -32768],\n",
      "       [   -29, -32768, -32768, ..., -32768, -32768, -32768],\n",
      "       ...,\n",
      "       [   -29, -32768, -32768, ..., -32768, -32768, -32768],\n",
      "       [   -29, -32768, -32768, ..., -32768, -32768, -32768],\n",
      "       [   -29, -32768, -32768, ..., -32768, -32768, -32768]], dtype=int16), array([[-32768, -32768, -32768, ..., -32768, -32768, -32768],\n",
      "       [-32768, -32768, -32768, ..., -32768, -32768, -32768],\n",
      "       [-32768, -32768, -32768, ..., -32768, -32768, -32768],\n",
      "       ...,\n",
      "       [-32768, -32768, -32768, ..., -32768, -32768, -32768],\n",
      "       [-32768, -32768, -32768, ..., -32768, -32768, -32768],\n",
      "       [-32768, -32768, -32768, ..., -32768, -32768, -32768]], dtype=int16), array([[112, 113, 113, ...,  22,  20,  18],\n",
      "       [115, 113, 111, ...,  23,  22,  20],\n",
      "       [113, 113, 112, ...,  21,  22,  20],\n",
      "       ...,\n",
      "       [751, 744, 742, ..., 575, 564, 560],\n",
      "       [759, 750, 744, ..., 579, 570, 561],\n",
      "       [764, 753, 745, ..., 574, 568, 563]], dtype=int16), array([[ 21,  22,  23, ..., -22, -20, -18],\n",
      "       [ 23,  23,  21, ..., -22, -22, -20],\n",
      "       [ 22,  20,  19, ..., -22, -21, -20],\n",
      "       ...,\n",
      "       [563, 576, 590, ..., 524, 524, 531],\n",
      "       [561, 569, 592, ..., 515, 519, 525],\n",
      "       [562, 568, 592, ..., 511, 514, 516]], dtype=int16), array([[-19, -19, -21, ..., -29, -29, -29],\n",
      "       [-21, -20, -20, ..., -29, -29, -29],\n",
      "       [-21, -22, -23, ..., -29, -29, -29],\n",
      "       ...,\n",
      "       [539, 548, 558, ..., -29, -29, -29],\n",
      "       [530, 537, 541, ..., -29, -29, -29],\n",
      "       [517, 520, 530, ..., -29, -29, -29]], dtype=int16), array([[   -29, -32768, -32768, ..., -32768, -32768, -32768],\n",
      "       [   -29, -32768, -32768, ..., -32768, -32768, -32768],\n",
      "       [   -29, -32768, -32768, ..., -32768, -32768, -32768],\n",
      "       ...,\n",
      "       [   -29, -32768, -32768, ..., -32768, -32768, -32768],\n",
      "       [   -29, -32768, -32768, ..., -32768, -32768, -32768],\n",
      "       [   -29,    -29,    -29, ...,    -29,    -29,    -29]], dtype=int16), array([[-32768, -32768, -32768, ..., -32768, -32768, -32768],\n",
      "       [-32768, -32768, -32768, ..., -32768, -32768, -32768],\n",
      "       [-32768, -32768, -32768, ..., -32768, -32768, -32768],\n",
      "       ...,\n",
      "       [-32768, -32768, -32768, ..., -32768, -32768, -32768],\n",
      "       [-32768, -32768, -32768, ..., -32768, -32768, -32768],\n",
      "       [   -29, -32768, -32768, ..., -32768, -32768, -32768]], dtype=int16), array([[ 773,  759,  751, ...,  572,  568,  567],\n",
      "       [ 787,  767,  758, ...,  570,  568,  573],\n",
      "       [ 787,  773,  766, ...,  570,  576,  594],\n",
      "       ...,\n",
      "       [1041, 1041, 1041, ..., 2122, 2119, 2121],\n",
      "       [1041, 1041, 1041, ..., 2166, 2172, 2172],\n",
      "       [1041, 1041, 1041, ..., 2210, 2209, 2225]], dtype=int16), array([[ 571,  581,  590, ...,  506,  510,  506],\n",
      "       [ 591,  602,  607, ...,  502,  501,  494],\n",
      "       [ 597,  602,  615, ...,  498,  492,  490],\n",
      "       ...,\n",
      "       [2142, 2158, 2174, ..., 3112, 3114, 3110],\n",
      "       [2189, 2202, 2210, ..., 3061, 3065, 3067],\n",
      "       [2242, 2245, 2279, ..., 3004, 3014, 3018]], dtype=int16), array([[ 506,  517,  530, ...,  -29,  -29,  -29],\n",
      "       [ 501,  514,  524, ...,  -29,  -29,  -29],\n",
      "       [ 501,  509,  516, ...,  -29,  -29,  -29],\n",
      "       ...,\n",
      "       [3103, 3094, 3085, ...,  754,  752,  749],\n",
      "       [3066, 3064, 3060, ...,  759,  756,  751],\n",
      "       [3021, 3024, 3023, ...,  750,  751,  743]], dtype=int16), array([[-29, -29, -29, ..., -29, -29, -29],\n",
      "       [-29, -29, -29, ..., -29, -29, -29],\n",
      "       [-29, -29, -29, ..., -29, -29, -29],\n",
      "       ...,\n",
      "       [746, 740, 732, ..., -29, -29, -29],\n",
      "       [749, 744, 739, ..., -29, -29, -29],\n",
      "       [742, 740, 731, ..., -29, -29, -29]], dtype=int16), array([[   -29, -32768, -32768, ..., -32768, -32768, -32768],\n",
      "       [   -29, -32768, -32768, ..., -32768, -32768, -32768],\n",
      "       [   -29, -32768, -32768, ..., -32768, -32768, -32768],\n",
      "       ...,\n",
      "       [   -29, -32768, -32768, ..., -32768, -32768, -32768],\n",
      "       [   -29, -32768, -32768, ..., -32768, -32768, -32768],\n",
      "       [   -29,    -29,    -29, ...,    -29,    -29,    -29]], dtype=int16), array([[1041, 1041, 1041, ..., 2223, 2248, 2272],\n",
      "       [1041, 1041, 1041, ..., 2242, 2271, 2291],\n",
      "       [1041, 1041, 1041, ..., 2224, 2231, 2234],\n",
      "       ...,\n",
      "       [1348, 1381, 1411, ...,  145,  145,  145],\n",
      "       [1370, 1389, 1416, ...,  145,  145,  145],\n",
      "       [1417, 1424, 1443, ...,  145,  145,  145]], dtype=int16), array([[2305, 2326, 2348, ..., 2958, 2957, 2966],\n",
      "       [2311, 2326, 2327, ..., 2960, 2934, 2923],\n",
      "       [2247, 2261, 2271, ..., 2975, 2939, 2910],\n",
      "       ...,\n",
      "       [ 149,  156,  163, ...,  120,  121,  122],\n",
      "       [ 145,  153,  160, ...,  118,  120,  121],\n",
      "       [ 145,  152,  159, ...,  117,  119,  121]], dtype=int16), array([[2972, 2978, 2982, ...,  740,  739,  734],\n",
      "       [2919, 2925, 2932, ...,  736,  730,  728],\n",
      "       [2884, 2879, 2885, ...,  736,  735,  732],\n",
      "       ...,\n",
      "       [ 122,  122,  124, ..., 1831, 1798, 1753],\n",
      "       [ 121,  119,  121, ..., 1853, 1812, 1756],\n",
      "       [ 121,  120,  119, ..., 1876, 1821, 1773]], dtype=int16), array([[ 730,  726,  718, ...,  -29,  -29,  -29],\n",
      "       [ 722,  716,  712, ...,  -29,  -29,  -29],\n",
      "       [ 729,  723,  721, ...,  -29,  -29,  -29],\n",
      "       ...,\n",
      "       [1715, 1665, 1615, ...,  713,  708,  692],\n",
      "       [1703, 1667, 1630, ...,  721,  716,  704],\n",
      "       [1735, 1705, 1663, ...,  730,  728,  717]], dtype=int16), array([[-29, -29, -29, ..., -29, -29, -29],\n",
      "       [-29, -29, -29, ..., -29, -29, -29],\n",
      "       [-29, -29, -29, ..., -29, -29, -29],\n",
      "       ...,\n",
      "       [687, 683, 683, ..., -29, -29, -29],\n",
      "       [699, 697, 698, ..., -29, -29, -29],\n",
      "       [711, 707, 703, ..., -29, -29, -29]], dtype=int16), array([[1452, 1465, 1487, ...,  145,  145,  145],\n",
      "       [1442, 1465, 1483, ...,  145,  145,  145],\n",
      "       [1409, 1433, 1451, ...,  145,  145,  145],\n",
      "       ...,\n",
      "       [1859, 1895, 1931, ..., 2265, 2240, 2218],\n",
      "       [1866, 1904, 1941, ..., 2291, 2269, 2246],\n",
      "       [1886, 1919, 1961, ..., 2317, 2298, 2278]], dtype=int16), array([[ 147,  150,  155, ...,  117,  118,  118],\n",
      "       [ 153,  156,  161, ...,  116,  118,  117],\n",
      "       [ 151,  156,  159, ...,  115,  117,  117],\n",
      "       ...,\n",
      "       [2199, 2225, 2243, ...,  298,  297,  294],\n",
      "       [2246, 2268, 2286, ...,  296,  295,  293],\n",
      "       [2286, 2309, 2334, ...,  295,  296,  295]], dtype=int16), array([[ 117,  118,  118, ..., 1855, 1810, 1766],\n",
      "       [ 116,  117,  119, ..., 1844, 1812, 1780],\n",
      "       [ 116,  115,  117, ..., 1856, 1833, 1807],\n",
      "       ...,\n",
      "       [ 292,  289,  288, ...,  -10,  -10,   -9],\n",
      "       [ 292,  290,  288, ...,  -11,  -11,  -10],\n",
      "       [ 291,  289,  289, ...,   -9,  -10,  -10]], dtype=int16), array([[1735, 1708, 1679, ...,  719,  719,  710],\n",
      "       [1751, 1717, 1680, ...,  696,  695,  689],\n",
      "       [1786, 1751, 1707, ...,  680,  673,  664],\n",
      "       ...,\n",
      "       [ -10,  -11,  -10, ...,  155,  140,  131],\n",
      "       [  -9,  -10,  -11, ...,  149,  146,  141],\n",
      "       [ -10,  -10,  -10, ...,  172,  171,  157]], dtype=int16), array([[706, 698, 688, ..., -29, -29, -29],\n",
      "       [680, 676, 667, ..., -29, -29, -29],\n",
      "       [655, 651, 644, ..., -29, -29, -29],\n",
      "       ...,\n",
      "       [139, 156, 161, ..., -29, -29, -29],\n",
      "       [139, 156, 165, ..., -29, -29, -29],\n",
      "       [145, 161, 173, ..., -29, -29, -29]], dtype=int16)]\n"
     ]
    }
   ],
   "source": [
    "\n",
    "\n",
    "elev_5_2  = []\n",
    "for item in elev_5_1:\n",
    "    elev_5_1 = np.array_split(item, 5, axis=1)\n",
    "    elev_5_2 += elev_5_1\n",
    "    \n",
    "print(np.shape(elev_5_2))\n",
    "print(elev_5_2)"
   ]
  },
  {
   "cell_type": "code",
   "execution_count": null,
   "id": "a406708a",
   "metadata": {},
   "outputs": [],
   "source": []
  },
  {
   "cell_type": "code",
   "execution_count": null,
   "id": "0a5cdc1a",
   "metadata": {},
   "outputs": [],
   "source": []
  },
  {
   "cell_type": "code",
   "execution_count": 19,
   "id": "256339a8",
   "metadata": {},
   "outputs": [
    {
     "data": {
      "text/plain": [
       "100"
      ]
     },
     "execution_count": 19,
     "metadata": {},
     "output_type": "execute_result"
    }
   ],
   "source": [
    "ar = np.arange(0, 10000)\n",
    "ar = ar.reshape(100, 100)\n",
    "ar.shape[0]"
   ]
  },
  {
   "cell_type": "code",
   "execution_count": 8,
   "id": "57c57399",
   "metadata": {},
   "outputs": [],
   "source": [
    "# !pip install matplotlib"
   ]
  },
  {
   "cell_type": "code",
   "execution_count": 96,
   "id": "3b9cbf0f",
   "metadata": {},
   "outputs": [],
   "source": [
    "import matplotlib.pyplot as plt"
   ]
  },
  {
   "cell_type": "code",
   "execution_count": 97,
   "id": "9b7d005c",
   "metadata": {},
   "outputs": [],
   "source": [
    "def get_2d_index_by_element_number(nrows, ncols, number):\n",
    "    element_row = 0\n",
    "    element_col = 0\n",
    "    \n",
    "    while number > ncols:\n",
    "        number -= ncols\n",
    "        element_row += 1\n",
    "    \n",
    "    element_col = number -1\n",
    "    \n",
    "    return (element_row, element_col)"
   ]
  },
  {
   "cell_type": "code",
   "execution_count": 98,
   "id": "9221c86a",
   "metadata": {},
   "outputs": [
    {
     "data": {
      "text/plain": [
       "(1, 4)"
      ]
     },
     "execution_count": 98,
     "metadata": {},
     "output_type": "execute_result"
    }
   ],
   "source": [
    "get_2d_index_by_element_number(5, 5, 10)"
   ]
  },
  {
   "cell_type": "code",
   "execution_count": 111,
   "id": "a7502df2",
   "metadata": {},
   "outputs": [],
   "source": [
    "\n",
    "\n",
    "\n",
    "def plot_image_grid(images, ncols=None, cmap='gist_earth'):    \n",
    "    '''Plot a grid of images'''\n",
    "    if not ncols:\n",
    "        factors = [i for i in range(1, len(images)+1) if len(images) % i == 0]\n",
    "        ncols = factors[len(factors) // 2] if len(factors) else len(images) // 4 + 1\n",
    "    nrows = int(len(images) / ncols) + int(len(images) % ncols)\n",
    "    imgs = [images[i] if len(images) > i else None for i in range(nrows * ncols)]\n",
    "    f, axes = plt.subplots(nrows, ncols, figsize=(3*ncols, 3*nrows))\n",
    "    axes = axes.flatten()[:len(imgs)]\n",
    "    count = 1\n",
    "    for img, ax in zip(imgs, axes.flatten()): \n",
    "        if np.any(img):\n",
    "            if len(img.shape) > 2 and img.shape[2] == 1:\n",
    "                img = img.squeeze()\n",
    "                \n",
    "            ax.title.set_text(count)\n",
    "            \n",
    "            '''georeferencing section'''\n",
    "            x0, dx, dxdy, y0, dydx, dy = ds.GetGeoTransform()\n",
    "            # get width and height of image array\n",
    "            nm_rows, nm_cols = img.shape\n",
    "\n",
    "            # The shift is one tile side length in degrees. It's should be float value\n",
    "            shift = 1\n",
    "            \n",
    "            two_dim_index = get_2d_index_by_element_number(nrows, ncols, count)\n",
    "            x0 += shift * (nrows - two_dim_index[0] - 1)\n",
    "            y0 -= shift * (ncols - two_dim_index[1] - 1)\n",
    "            x1 = (x0 + dx * nm_cols)\n",
    "            y1 = (y0 + dy * nm_rows)\n",
    "\n",
    "            \n",
    "            ''''''\n",
    "            #ax.subplots_adjust(hspace=0.4, wspace=0.4)\n",
    "            ax.imshow(img, cmap=cmap, extent=[y1, y0, x0, x1])\n",
    "            count += 1\n"
   ]
  },
  {
   "cell_type": "code",
   "execution_count": 115,
   "id": "d6b4d2eb",
   "metadata": {
    "scrolled": false
   },
   "outputs": [
    {
     "data": {
      "image/png": "[encoded data removed]",
      "text/plain": [
       "<Figure size 648x648 with 9 Axes>"
      ]
     },
     "metadata": {
      "needs_background": "light"
     },
     "output_type": "display_data"
    }
   ],
   "source": [
    "plot_image_grid(tails)"
   ]
  },
  {
   "cell_type": "code",
   "execution_count": 114,
   "id": "e6d4425d",
   "metadata": {},
   "outputs": [
    {
     "data": {
      "image/png": "[encoded data removed]",
      "text/plain": [
       "<Figure size 432x288 with 1 Axes>"
      ]
     },
     "metadata": {
      "needs_background": "light"
     },
     "output_type": "display_data"
    }
   ],
   "source": [
    "nrows, ncols = np.shape(tails[0])\n",
    "\n",
    "# I'm making the assumption that the image isn't rotated/skewed/etc. \n",
    "# This is not the correct method in general, but let's ignore that for now\n",
    "# If dxdy or dydx aren't 0, then this will be incorrect\n",
    "x0, dx, dxdy, y0, dydx, dy = ds.GetGeoTransform()\n",
    "\n",
    "x1 = x0 + dx * ncols\n",
    "y1 = y0 + dy * nrows\n",
    "\n",
    "plt.imshow(tails[4], cmap='gist_earth', extent=[y1, y0, x0, x1])\n",
    "plt.show()"
   ]
  },
  {
   "cell_type": "code",
   "execution_count": 34,
   "id": "cbfe8207",
   "metadata": {},
   "outputs": [
    {
     "name": "stdout",
     "output_type": "stream",
     "text": [
      "0.0008333333333333334 0.0 55.0\n"
     ]
    }
   ],
   "source": [
    "print(dx, dydx, y1)"
   ]
  },
  {
   "cell_type": "code",
   "execution_count": null,
   "id": "79f345b3",
   "metadata": {},
   "outputs": [],
   "source": []
  },
  {
   "cell_type": "code",
   "execution_count": null,
   "id": "4794027d",
   "metadata": {},
   "outputs": [],
   "source": []
  }
 ],
 "metadata": {
  "kernelspec": {
   "display_name": "gdal",
   "language": "python",
   "name": "gdal"
  },
  "language_info": {
   "codemirror_mode": {
    "name": "ipython",
    "version": 3
   },
   "file_extension": ".py",
   "mimetype": "text/x-python",
   "name": "python",
   "nbconvert_exporter": "python",
   "pygments_lexer": "ipython3",
   "version": "3.10.5"
  }
 },
 "nbformat": 4,
 "nbformat_minor": 5
}
